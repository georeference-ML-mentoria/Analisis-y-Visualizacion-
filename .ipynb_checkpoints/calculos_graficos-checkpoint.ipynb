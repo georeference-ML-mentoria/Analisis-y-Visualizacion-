{
 "cells": [
  {
   "cell_type": "markdown",
   "metadata": {},
   "source": [
    "# Analisis de calidad de suministro electrico\n",
    "## Analisis y Visualizacion de datos"
   ]
  },
  {
   "cell_type": "code",
   "execution_count": 6,
   "metadata": {},
   "outputs": [],
   "source": [
    "import warnings\n",
    "warnings.filterwarnings('ignore')"
   ]
  },
  {
   "cell_type": "code",
   "execution_count": 7,
   "metadata": {},
   "outputs": [],
   "source": [
    "#from IPython.display import Image\n",
    "import geopandas as gpd\n",
    "import pandas as pd\n",
    "import numpy as np\n",
    "import matplotlib.pyplot as plt\n",
    "import seaborn as sns\n",
    "from scipy.stats import pearsonr"
   ]
  },
  {
   "cell_type": "code",
   "execution_count": 8,
   "metadata": {},
   "outputs": [],
   "source": [
    "data_path = './data/SULGIPE_46_2018-12-31_M10_20190611-1750.gdb'\n",
    "# Carguemos la tabla de consumidores de baja tension denominada UCBT\n",
    "ucbt = gpd.read_file(data_path, driver='FileGDB', layer='UCBT')"
   ]
  },
  {
   "cell_type": "code",
   "execution_count": 9,
   "metadata": {},
   "outputs": [],
   "source": [
    "col_sel = ['PAC', 'CONJ', 'MUN', 'BRR', 'CLAS_SUB', 'CNAE', \n",
    " 'FAS_CON', 'GRU_TEN', 'TEN_FORN', 'GRU_TAR', 'DAT_CON', 'CAR_INST',\n",
    " 'ENE_01', 'ENE_02', 'ENE_03', 'ENE_04', 'ENE_05', 'ENE_06', 'ENE_07',\n",
    " 'ENE_08', 'ENE_09', 'ENE_10', 'ENE_11', 'ENE_12', 'ARE_LOC', 'SIT_ATIV',\n",
    " 'FIC', 'DIC']\n",
    "\n",
    "data = ucbt[col_sel]"
   ]
  },
  {
   "cell_type": "markdown",
   "metadata": {},
   "source": [
    "### Calcule el consumo total anual de cada consumidor."
   ]
  },
  {
   "cell_type": "code",
   "execution_count": null,
   "metadata": {},
   "outputs": [],
   "source": [
    "annual_totals = []\n",
    "for index, row in data.iterrows():\n",
    "    annual_total = row.ENE_01+row.ENE_02+ \\\n",
    "     row.ENE_03+row.ENE_04+row.ENE_05+ \\\n",
    "    row.ENE_06+row.ENE_07+row.ENE_08+ \\\n",
    "    row.ENE_09+row.ENE_10+row.ENE_11+ \\\n",
    "    row.ENE_02\n",
    "    annual_totals.append(annual_total)"
   ]
  },
  {
   "cell_type": "code",
   "execution_count": null,
   "metadata": {},
   "outputs": [],
   "source": [
    "data['consumo_anual'] = annual_totals\n",
    "data.sort_values(by=['consumo_anual']).head() #negative values!!!!"
   ]
  },
  {
   "cell_type": "code",
   "execution_count": null,
   "metadata": {},
   "outputs": [],
   "source": [
    "print(\"Consumo anual mean: \",data.consumo_anual.mean())#= 1392.671kWh,\n",
    "print(\"Max: \",data.consumo_anual.max())#= 7825074.0\n",
    "print(\"desvio estandar: \",data.consumo_anual.std())#= 27441.344 ."
   ]
  },
  {
   "cell_type": "markdown",
   "metadata": {},
   "source": [
    "### Cuando sea posible calcule la correlacion entre cada variable y la salida, y entre variables."
   ]
  },
  {
   "cell_type": "markdown",
   "metadata": {},
   "source": [
    "#### Numeric con numeric: coeficiente de correlacion o \"R\""
   ]
  },
  {
   "cell_type": "code",
   "execution_count": null,
   "metadata": {},
   "outputs": [],
   "source": [
    "data_types = (data.dtypes == \"float\")\n",
    "quant = []\n",
    "for idx, value in data_types.items():\n",
    "    if value == True:\n",
    "        quant.append(idx)  \n",
    "quant.remove('DIC')\n",
    "quant.remove('FIC')\n",
    "print(quant)# names of numeric variables "
   ]
  },
  {
   "cell_type": "code",
   "execution_count": null,
   "metadata": {},
   "outputs": [],
   "source": [
    "numerica = []\n",
    "R = []\n",
    "for i in quant:\n",
    "    numeric = data[f\"{i}\"]\n",
    "    r, stat = pearsonr(numeric.values,data.DIC.values)\n",
    "    R.append(r)\n",
    "\n",
    "DIC = ['DIC'] * len(quant)\n",
    "    \n",
    "df = pd.DataFrame({'entrada': quant,\n",
    "                   'salida': DIC,\n",
    "                 'R':R})\n",
    "df"
   ]
  },
  {
   "cell_type": "markdown",
   "metadata": {},
   "source": [
    "#### Categorical con numeric (DIC): weighted variance"
   ]
  },
  {
   "cell_type": "markdown",
   "metadata": {},
   "source": [
    "El siguiente codigo es del articulo [Shaked Zychlinski](https://towardsdatascience.com/the-search-for-categorical-correlation-a1cf7f1888c9) publicado en Towards Data Science."
   ]
  },
  {
   "cell_type": "code",
   "execution_count": null,
   "metadata": {},
   "outputs": [],
   "source": [
    "# https://towardsdatascience.com/the-search-for-categorical-correlation-a1cf7f1888c9\n",
    "def correlation_ratio(categories, measurements):\n",
    "    fcat, _ = pd.factorize(categories)\n",
    "    cat_num = np.max(fcat)+1\n",
    "    y_avg_array = np.zeros(cat_num)\n",
    "    n_array = np.zeros(cat_num)\n",
    "    for i in range(0,cat_num):\n",
    "        cat_measures = measurements[np.argwhere(fcat == i).flatten()]\n",
    "        n_array[i] = len(cat_measures)\n",
    "        y_avg_array[i] = np.average(cat_measures)\n",
    "    y_total_avg = np.sum(np.multiply(y_avg_array,n_array))/np.sum(n_array)\n",
    "    numerator = np.sum(np.multiply(n_array,np.power(np.subtract(y_avg_array,y_total_avg),2)))\n",
    "    denominator = np.sum(np.power(np.subtract(measurements,y_total_avg),2))\n",
    "    if numerator == 0:\n",
    "        eta = 0.0\n",
    "    else:\n",
    "        eta = np.sqrt(numerator/denominator)\n",
    "    return eta\n"
   ]
  },
  {
   "cell_type": "code",
   "execution_count": null,
   "metadata": {},
   "outputs": [],
   "source": [
    "data_types = (data.dtypes == \"object\")\n",
    "qual = []\n",
    "for idx, value in data_types.items():\n",
    "    if value == True:\n",
    "        qual.append(idx)  \n",
    "qual.append('CONJ')\n",
    "print(qual)# names of categorical variables "
   ]
  },
  {
   "cell_type": "code",
   "execution_count": null,
   "metadata": {},
   "outputs": [],
   "source": [
    "categorica = []\n",
    "correlation = []\n",
    "for i in qual:\n",
    "    cat = data[f\"{i}\"]\n",
    "    eta = correlation_ratio(cat.values,data.DIC.values)\n",
    "    correlation.append(eta)\n",
    "\n",
    "DIC = ['DIC'] * len(qual)\n",
    "\n",
    "df = pd.DataFrame({'entrada': qual,\n",
    "                   'salida' : DIC,\n",
    "                 'correlation': correlation})\n",
    "df"
   ]
  },
  {
   "cell_type": "markdown",
   "metadata": {},
   "source": [
    "### Escoja una variable categorica y calcule las distribuciones condicionales para cada nivel de la misma."
   ]
  },
  {
   "cell_type": "markdown",
   "metadata": {},
   "source": [
    "#### Distribución condicional para DIC en GRU_TAR"
   ]
  },
  {
   "cell_type": "code",
   "execution_count": null,
   "metadata": {},
   "outputs": [],
   "source": [
    "data['DIC_CAT'] = pd.cut(data['DIC'], [-1,2,5,10], labels=['low', 'medium', 'high'])\n",
    "cond_prob = pd.crosstab(data.GRU_TAR, data.DIC_CAT)\n",
    "cond_prob "
   ]
  },
  {
   "cell_type": "markdown",
   "metadata": {},
   "source": [
    "**P(un cliente en GRU_TAR B1 ∣ tiene medium duracion de corte)**"
   ]
  },
  {
   "cell_type": "code",
   "execution_count": null,
   "metadata": {},
   "outputs": [],
   "source": [
    "def sum_list(items):\n",
    "    sum_numbers = 0\n",
    "    for x in items:\n",
    "        sum_numbers += x\n",
    "    return sum_numbers\n",
    "print(sum_list(cond_prob.sum(axis=1)))"
   ]
  },
  {
   "cell_type": "code",
   "execution_count": null,
   "metadata": {},
   "outputs": [],
   "source": [
    "print(\"Probabilidad que un cliente en GRU_TAR B1 tiene medium duracion de corte: \",int(cond_prob.sum(axis=1).B1)/int(sum_list(cond_prob.sum(axis=1))))"
   ]
  },
  {
   "cell_type": "markdown",
   "metadata": {},
   "source": [
    "### Como varia el servicio entre zonas urbanas y rurales?"
   ]
  },
  {
   "cell_type": "markdown",
   "metadata": {},
   "source": [
    "Sacamos los valores ```0``` de```ARE_LOC``` porque no sabemos a que se refiere y cambian mucho el imagen resultado. "
   ]
  },
  {
   "cell_type": "code",
   "execution_count": null,
   "metadata": {},
   "outputs": [],
   "source": [
    "target_0 = data.loc[data['ARE_LOC'] == 'NU']\n",
    "target_1 = data.loc[data['ARE_LOC'] == \"UB\"]"
   ]
  },
  {
   "cell_type": "code",
   "execution_count": null,
   "metadata": {},
   "outputs": [],
   "source": [
    "fig = plt.figure(figsize=(8,4))\n",
    "plt.xlabel('horas')\n",
    "plt.title('Distribucion de Duración de Corte; zonas urbanos y rurales')\n",
    "ax = sns.distplot(target_0[['DIC']], label='NU', hist=False)\n",
    "bx = sns.distplot(target_1[['DIC']], label='UB', hist=False)\n",
    "ax.legend()"
   ]
  },
  {
   "cell_type": "markdown",
   "metadata": {},
   "source": [
    "### Como varia el consumo entre zonas urbanas y rurales?"
   ]
  },
  {
   "cell_type": "code",
   "execution_count": null,
   "metadata": {},
   "outputs": [],
   "source": [
    "fig = plt.figure(figsize=(8,4))\n",
    "#plt.xlabel('DIC (duración de corte en horas)')\n",
    "#plt.title('Tabla de frequencia entre zonas urbanos y rurales y duración de corte (categorizado por bins)')\n",
    "ax = sns.distplot(target_0[['consumo_anual']], label='NU', hist=False)\n",
    "bx = sns.distplot(target_1[['consumo_anual']], label='UB', hist=False)\n",
    "ax.legend()"
   ]
  }
 ],
 "metadata": {
  "kernelspec": {
   "display_name": "Python 3",
   "language": "python",
   "name": "python3"
  },
  "language_info": {
   "codemirror_mode": {
    "name": "ipython",
    "version": 3
   },
   "file_extension": ".py",
   "mimetype": "text/x-python",
   "name": "python",
   "nbconvert_exporter": "python",
   "pygments_lexer": "ipython3",
   "version": "3.7.6"
  }
 },
 "nbformat": 4,
 "nbformat_minor": 2
}
