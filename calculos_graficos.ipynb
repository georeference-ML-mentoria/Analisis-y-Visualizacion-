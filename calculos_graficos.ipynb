{
 "cells": [
  {
   "cell_type": "markdown",
   "metadata": {},
   "source": [
    "# Analisis de calidad de suministro electrico\n",
    "## Analisis y Visualizacion de datos"
   ]
  },
  {
   "cell_type": "code",
   "execution_count": 6,
   "metadata": {},
   "outputs": [],
   "source": [
    "import warnings\n",
    "warnings.filterwarnings('ignore')"
   ]
  },
  {
   "cell_type": "code",
   "execution_count": 7,
   "metadata": {},
   "outputs": [],
   "source": [
    "#from IPython.display import Image\n",
    "import geopandas as gpd\n",
    "import pandas as pd\n",
    "import numpy as np\n",
    "import matplotlib.pyplot as plt\n",
    "import seaborn as sns\n",
    "from scipy.stats import pearsonr"
   ]
  },
  {
   "cell_type": "code",
   "execution_count": 8,
   "metadata": {},
   "outputs": [],
   "source": [
    "data_path = './data/SULGIPE_46_2018-12-31_M10_20190611-1750.gdb'\n",
    "# Carguemos la tabla de consumidores de baja tension denominada UCBT\n",
    "ucbt = gpd.read_file(data_path, driver='FileGDB', layer='UCBT')"
   ]
  },
  {
   "cell_type": "code",
   "execution_count": 9,
   "metadata": {},
   "outputs": [],
   "source": [
    "col_sel = ['PAC', 'CONJ', 'MUN', 'BRR', 'CLAS_SUB', 'CNAE', \n",
    " 'FAS_CON', 'GRU_TEN', 'TEN_FORN', 'GRU_TAR', 'DAT_CON', 'CAR_INST',\n",
    " 'ENE_01', 'ENE_02', 'ENE_03', 'ENE_04', 'ENE_05', 'ENE_06', 'ENE_07',\n",
    " 'ENE_08', 'ENE_09', 'ENE_10', 'ENE_11', 'ENE_12', 'ARE_LOC', 'SIT_ATIV',\n",
    " 'FIC', 'DIC']\n",
    "\n",
    "data = ucbt[col_sel]"
   ]
  },
  {
   "cell_type": "markdown",
   "metadata": {},
   "source": [
    "### Calcule el consumo total anual de cada consumidor."
   ]
  },
  {
   "cell_type": "code",
   "execution_count": 10,
   "metadata": {},
   "outputs": [],
   "source": [
    "annual_totals = []\n",
    "for index, row in data.iterrows():\n",
    "    annual_total = row.ENE_01+row.ENE_02+ \\\n",
    "     row.ENE_03+row.ENE_04+row.ENE_05+ \\\n",
    "    row.ENE_06+row.ENE_07+row.ENE_08+ \\\n",
    "    row.ENE_09+row.ENE_10+row.ENE_11+ \\\n",
    "    row.ENE_02\n",
    "    annual_totals.append(annual_total)"
   ]
  },
  {
   "cell_type": "code",
   "execution_count": 11,
   "metadata": {},
   "outputs": [
    {
     "data": {
      "text/html": [
       "<div>\n",
       "<style scoped>\n",
       "    .dataframe tbody tr th:only-of-type {\n",
       "        vertical-align: middle;\n",
       "    }\n",
       "\n",
       "    .dataframe tbody tr th {\n",
       "        vertical-align: top;\n",
       "    }\n",
       "\n",
       "    .dataframe thead th {\n",
       "        text-align: right;\n",
       "    }\n",
       "</style>\n",
       "<table border=\"1\" class=\"dataframe\">\n",
       "  <thead>\n",
       "    <tr style=\"text-align: right;\">\n",
       "      <th></th>\n",
       "      <th>PAC</th>\n",
       "      <th>CONJ</th>\n",
       "      <th>MUN</th>\n",
       "      <th>BRR</th>\n",
       "      <th>CLAS_SUB</th>\n",
       "      <th>CNAE</th>\n",
       "      <th>FAS_CON</th>\n",
       "      <th>GRU_TEN</th>\n",
       "      <th>TEN_FORN</th>\n",
       "      <th>GRU_TAR</th>\n",
       "      <th>...</th>\n",
       "      <th>ENE_08</th>\n",
       "      <th>ENE_09</th>\n",
       "      <th>ENE_10</th>\n",
       "      <th>ENE_11</th>\n",
       "      <th>ENE_12</th>\n",
       "      <th>ARE_LOC</th>\n",
       "      <th>SIT_ATIV</th>\n",
       "      <th>FIC</th>\n",
       "      <th>DIC</th>\n",
       "      <th>consumo_anual</th>\n",
       "    </tr>\n",
       "  </thead>\n",
       "  <tbody>\n",
       "    <tr>\n",
       "      <th>133170</th>\n",
       "      <td>UC173274</td>\n",
       "      <td>15602</td>\n",
       "      <td>2802106</td>\n",
       "      <td>POV PORTO DO MATO</td>\n",
       "      <td>RE1</td>\n",
       "      <td>0</td>\n",
       "      <td>ABN</td>\n",
       "      <td>BT</td>\n",
       "      <td>22</td>\n",
       "      <td>B1</td>\n",
       "      <td>...</td>\n",
       "      <td>17.0</td>\n",
       "      <td>32.0</td>\n",
       "      <td>26.0</td>\n",
       "      <td>4.0</td>\n",
       "      <td>40.0</td>\n",
       "      <td>NU</td>\n",
       "      <td>AT</td>\n",
       "      <td>3.0</td>\n",
       "      <td>1.32</td>\n",
       "      <td>-2229.0</td>\n",
       "    </tr>\n",
       "    <tr>\n",
       "      <th>17070</th>\n",
       "      <td>UC76575</td>\n",
       "      <td>15601</td>\n",
       "      <td>2803005</td>\n",
       "      <td>ITABAIANINHA</td>\n",
       "      <td>RE1</td>\n",
       "      <td>0</td>\n",
       "      <td>AN</td>\n",
       "      <td>BT</td>\n",
       "      <td>22</td>\n",
       "      <td>B1</td>\n",
       "      <td>...</td>\n",
       "      <td>0.0</td>\n",
       "      <td>0.0</td>\n",
       "      <td>0.0</td>\n",
       "      <td>0.0</td>\n",
       "      <td>0.0</td>\n",
       "      <td>UB</td>\n",
       "      <td>AT</td>\n",
       "      <td>2.0</td>\n",
       "      <td>0.78</td>\n",
       "      <td>-1677.0</td>\n",
       "    </tr>\n",
       "    <tr>\n",
       "      <th>95427</th>\n",
       "      <td>UC2010</td>\n",
       "      <td>15602</td>\n",
       "      <td>2802106</td>\n",
       "      <td>SÃO JORGE</td>\n",
       "      <td>RE1</td>\n",
       "      <td>0</td>\n",
       "      <td>AN</td>\n",
       "      <td>BT</td>\n",
       "      <td>22</td>\n",
       "      <td>B1</td>\n",
       "      <td>...</td>\n",
       "      <td>44.0</td>\n",
       "      <td>34.0</td>\n",
       "      <td>0.0</td>\n",
       "      <td>0.0</td>\n",
       "      <td>0.0</td>\n",
       "      <td>UB</td>\n",
       "      <td>AT</td>\n",
       "      <td>5.0</td>\n",
       "      <td>5.10</td>\n",
       "      <td>-1411.0</td>\n",
       "    </tr>\n",
       "    <tr>\n",
       "      <th>45694</th>\n",
       "      <td>UC1349</td>\n",
       "      <td>15602</td>\n",
       "      <td>2802106</td>\n",
       "      <td>CENTRO</td>\n",
       "      <td>RE1</td>\n",
       "      <td>0</td>\n",
       "      <td>CN</td>\n",
       "      <td>BT</td>\n",
       "      <td>22</td>\n",
       "      <td>B1</td>\n",
       "      <td>...</td>\n",
       "      <td>0.0</td>\n",
       "      <td>0.0</td>\n",
       "      <td>0.0</td>\n",
       "      <td>0.0</td>\n",
       "      <td>0.0</td>\n",
       "      <td>UB</td>\n",
       "      <td>DS</td>\n",
       "      <td>3.0</td>\n",
       "      <td>0.92</td>\n",
       "      <td>-489.0</td>\n",
       "    </tr>\n",
       "    <tr>\n",
       "      <th>6467</th>\n",
       "      <td>UC19218</td>\n",
       "      <td>15602</td>\n",
       "      <td>2802106</td>\n",
       "      <td>POV ZECA DE LOIA</td>\n",
       "      <td>RE1</td>\n",
       "      <td>0</td>\n",
       "      <td>AN</td>\n",
       "      <td>BT</td>\n",
       "      <td>22</td>\n",
       "      <td>B1</td>\n",
       "      <td>...</td>\n",
       "      <td>0.0</td>\n",
       "      <td>3.0</td>\n",
       "      <td>1.0</td>\n",
       "      <td>3.0</td>\n",
       "      <td>0.0</td>\n",
       "      <td>NU</td>\n",
       "      <td>AT</td>\n",
       "      <td>7.0</td>\n",
       "      <td>11.12</td>\n",
       "      <td>-266.0</td>\n",
       "    </tr>\n",
       "  </tbody>\n",
       "</table>\n",
       "<p>5 rows × 29 columns</p>\n",
       "</div>"
      ],
      "text/plain": [
       "             PAC   CONJ      MUN                BRR CLAS_SUB CNAE FAS_CON  \\\n",
       "133170  UC173274  15602  2802106  POV PORTO DO MATO      RE1    0     ABN   \n",
       "17070    UC76575  15601  2803005       ITABAIANINHA      RE1    0      AN   \n",
       "95427     UC2010  15602  2802106          SÃO JORGE      RE1    0      AN   \n",
       "45694     UC1349  15602  2802106             CENTRO      RE1    0      CN   \n",
       "6467     UC19218  15602  2802106   POV ZECA DE LOIA      RE1    0      AN   \n",
       "\n",
       "       GRU_TEN TEN_FORN GRU_TAR  ... ENE_08  ENE_09  ENE_10  ENE_11  ENE_12  \\\n",
       "133170      BT       22      B1  ...   17.0    32.0    26.0     4.0    40.0   \n",
       "17070       BT       22      B1  ...    0.0     0.0     0.0     0.0     0.0   \n",
       "95427       BT       22      B1  ...   44.0    34.0     0.0     0.0     0.0   \n",
       "45694       BT       22      B1  ...    0.0     0.0     0.0     0.0     0.0   \n",
       "6467        BT       22      B1  ...    0.0     3.0     1.0     3.0     0.0   \n",
       "\n",
       "        ARE_LOC  SIT_ATIV  FIC    DIC  consumo_anual  \n",
       "133170       NU        AT  3.0   1.32        -2229.0  \n",
       "17070        UB        AT  2.0   0.78        -1677.0  \n",
       "95427        UB        AT  5.0   5.10        -1411.0  \n",
       "45694        UB        DS  3.0   0.92         -489.0  \n",
       "6467         NU        AT  7.0  11.12         -266.0  \n",
       "\n",
       "[5 rows x 29 columns]"
      ]
     },
     "execution_count": 11,
     "metadata": {},
     "output_type": "execute_result"
    }
   ],
   "source": [
    "data['consumo_anual'] = annual_totals\n",
    "data.sort_values(by=['consumo_anual']).head() #negative values!!!!"
   ]
  },
  {
   "cell_type": "code",
   "execution_count": 12,
   "metadata": {},
   "outputs": [
    {
     "name": "stdout",
     "output_type": "stream",
     "text": [
      "Consumo anual mean:  1392.6710505977783\n",
      "Max:  7825074.0\n",
      "desvio estandar:  27441.34403466776\n"
     ]
    }
   ],
   "source": [
    "print(\"Consumo anual mean: \",data.consumo_anual.mean())#= 1392.671kWh,\n",
    "print(\"Max: \",data.consumo_anual.max())#= 7825074.0\n",
    "print(\"desvio estandar: \",data.consumo_anual.std())#= 27441.344 ."
   ]
  },
  {
   "cell_type": "markdown",
   "metadata": {},
   "source": [
    "### Cuando sea posible calcule la correlacion entre cada variable y la salida, y entre variables."
   ]
  },
  {
   "cell_type": "markdown",
   "metadata": {},
   "source": [
    "#### Numeric con numeric: coeficiente de correlacion o \"R\""
   ]
  },
  {
   "cell_type": "code",
   "execution_count": 13,
   "metadata": {},
   "outputs": [
    {
     "name": "stdout",
     "output_type": "stream",
     "text": [
      "['CAR_INST', 'ENE_01', 'ENE_02', 'ENE_03', 'ENE_04', 'ENE_05', 'ENE_06', 'ENE_07', 'ENE_08', 'ENE_09', 'ENE_10', 'ENE_11', 'ENE_12', 'consumo_anual']\n"
     ]
    }
   ],
   "source": [
    "data_types = (data.dtypes == \"float\")\n",
    "quant = []\n",
    "for idx, value in data_types.items():\n",
    "    if value == True:\n",
    "        quant.append(idx)  \n",
    "quant.remove('DIC')\n",
    "quant.remove('FIC')\n",
    "print(quant)# names of numeric variables "
   ]
  },
  {
   "cell_type": "code",
   "execution_count": 14,
   "metadata": {},
   "outputs": [
    {
     "data": {
      "text/html": [
       "<div>\n",
       "<style scoped>\n",
       "    .dataframe tbody tr th:only-of-type {\n",
       "        vertical-align: middle;\n",
       "    }\n",
       "\n",
       "    .dataframe tbody tr th {\n",
       "        vertical-align: top;\n",
       "    }\n",
       "\n",
       "    .dataframe thead th {\n",
       "        text-align: right;\n",
       "    }\n",
       "</style>\n",
       "<table border=\"1\" class=\"dataframe\">\n",
       "  <thead>\n",
       "    <tr style=\"text-align: right;\">\n",
       "      <th></th>\n",
       "      <th>entrada</th>\n",
       "      <th>salida</th>\n",
       "      <th>R</th>\n",
       "    </tr>\n",
       "  </thead>\n",
       "  <tbody>\n",
       "    <tr>\n",
       "      <th>0</th>\n",
       "      <td>CAR_INST</td>\n",
       "      <td>DIC</td>\n",
       "      <td>-0.002368</td>\n",
       "    </tr>\n",
       "    <tr>\n",
       "      <th>1</th>\n",
       "      <td>ENE_01</td>\n",
       "      <td>DIC</td>\n",
       "      <td>-0.005270</td>\n",
       "    </tr>\n",
       "    <tr>\n",
       "      <th>2</th>\n",
       "      <td>ENE_02</td>\n",
       "      <td>DIC</td>\n",
       "      <td>-0.006265</td>\n",
       "    </tr>\n",
       "    <tr>\n",
       "      <th>3</th>\n",
       "      <td>ENE_03</td>\n",
       "      <td>DIC</td>\n",
       "      <td>-0.005916</td>\n",
       "    </tr>\n",
       "    <tr>\n",
       "      <th>4</th>\n",
       "      <td>ENE_04</td>\n",
       "      <td>DIC</td>\n",
       "      <td>-0.006691</td>\n",
       "    </tr>\n",
       "    <tr>\n",
       "      <th>5</th>\n",
       "      <td>ENE_05</td>\n",
       "      <td>DIC</td>\n",
       "      <td>-0.006445</td>\n",
       "    </tr>\n",
       "    <tr>\n",
       "      <th>6</th>\n",
       "      <td>ENE_06</td>\n",
       "      <td>DIC</td>\n",
       "      <td>-0.006904</td>\n",
       "    </tr>\n",
       "    <tr>\n",
       "      <th>7</th>\n",
       "      <td>ENE_07</td>\n",
       "      <td>DIC</td>\n",
       "      <td>-0.006604</td>\n",
       "    </tr>\n",
       "    <tr>\n",
       "      <th>8</th>\n",
       "      <td>ENE_08</td>\n",
       "      <td>DIC</td>\n",
       "      <td>-0.006556</td>\n",
       "    </tr>\n",
       "    <tr>\n",
       "      <th>9</th>\n",
       "      <td>ENE_09</td>\n",
       "      <td>DIC</td>\n",
       "      <td>-0.006170</td>\n",
       "    </tr>\n",
       "    <tr>\n",
       "      <th>10</th>\n",
       "      <td>ENE_10</td>\n",
       "      <td>DIC</td>\n",
       "      <td>-0.006440</td>\n",
       "    </tr>\n",
       "    <tr>\n",
       "      <th>11</th>\n",
       "      <td>ENE_11</td>\n",
       "      <td>DIC</td>\n",
       "      <td>-0.007148</td>\n",
       "    </tr>\n",
       "    <tr>\n",
       "      <th>12</th>\n",
       "      <td>ENE_12</td>\n",
       "      <td>DIC</td>\n",
       "      <td>-0.007525</td>\n",
       "    </tr>\n",
       "    <tr>\n",
       "      <th>13</th>\n",
       "      <td>consumo_anual</td>\n",
       "      <td>DIC</td>\n",
       "      <td>-0.006445</td>\n",
       "    </tr>\n",
       "  </tbody>\n",
       "</table>\n",
       "</div>"
      ],
      "text/plain": [
       "          entrada salida         R\n",
       "0        CAR_INST    DIC -0.002368\n",
       "1          ENE_01    DIC -0.005270\n",
       "2          ENE_02    DIC -0.006265\n",
       "3          ENE_03    DIC -0.005916\n",
       "4          ENE_04    DIC -0.006691\n",
       "5          ENE_05    DIC -0.006445\n",
       "6          ENE_06    DIC -0.006904\n",
       "7          ENE_07    DIC -0.006604\n",
       "8          ENE_08    DIC -0.006556\n",
       "9          ENE_09    DIC -0.006170\n",
       "10         ENE_10    DIC -0.006440\n",
       "11         ENE_11    DIC -0.007148\n",
       "12         ENE_12    DIC -0.007525\n",
       "13  consumo_anual    DIC -0.006445"
      ]
     },
     "execution_count": 14,
     "metadata": {},
     "output_type": "execute_result"
    }
   ],
   "source": [
    "numerica = []\n",
    "R = []\n",
    "for i in quant:\n",
    "    numeric = data[f\"{i}\"]\n",
    "    r, stat = pearsonr(numeric.values,data.DIC.values)\n",
    "    R.append(r)\n",
    "\n",
    "DIC = ['DIC'] * len(quant)\n",
    "    \n",
    "df = pd.DataFrame({'entrada': quant,\n",
    "                   'salida': DIC,\n",
    "                 'R':R})\n",
    "df"
   ]
  },
  {
   "cell_type": "markdown",
   "metadata": {},
   "source": [
    "#### Categorical con numeric (DIC): weighted variance"
   ]
  },
  {
   "cell_type": "markdown",
   "metadata": {},
   "source": [
    "El siguiente codigo es del articulo [Shaked Zychlinski](https://towardsdatascience.com/the-search-for-categorical-correlation-a1cf7f1888c9) publicado en Towards Data Science."
   ]
  },
  {
   "cell_type": "code",
   "execution_count": 15,
   "metadata": {},
   "outputs": [],
   "source": [
    "# https://towardsdatascience.com/the-search-for-categorical-correlation-a1cf7f1888c9\n",
    "def correlation_ratio(categories, measurements):\n",
    "    fcat, _ = pd.factorize(categories)\n",
    "    cat_num = np.max(fcat)+1\n",
    "    y_avg_array = np.zeros(cat_num)\n",
    "    n_array = np.zeros(cat_num)\n",
    "    for i in range(0,cat_num):\n",
    "        cat_measures = measurements[np.argwhere(fcat == i).flatten()]\n",
    "        n_array[i] = len(cat_measures)\n",
    "        y_avg_array[i] = np.average(cat_measures)\n",
    "    y_total_avg = np.sum(np.multiply(y_avg_array,n_array))/np.sum(n_array)\n",
    "    numerator = np.sum(np.multiply(n_array,np.power(np.subtract(y_avg_array,y_total_avg),2)))\n",
    "    denominator = np.sum(np.power(np.subtract(measurements,y_total_avg),2))\n",
    "    if numerator == 0:\n",
    "        eta = 0.0\n",
    "    else:\n",
    "        eta = np.sqrt(numerator/denominator)\n",
    "    return eta\n"
   ]
  },
  {
   "cell_type": "code",
   "execution_count": 16,
   "metadata": {},
   "outputs": [
    {
     "name": "stdout",
     "output_type": "stream",
     "text": [
      "['PAC', 'MUN', 'BRR', 'CLAS_SUB', 'CNAE', 'FAS_CON', 'GRU_TEN', 'TEN_FORN', 'GRU_TAR', 'DAT_CON', 'ARE_LOC', 'SIT_ATIV', 'CONJ']\n"
     ]
    }
   ],
   "source": [
    "data_types = (data.dtypes == \"object\")\n",
    "qual = []\n",
    "for idx, value in data_types.items():\n",
    "    if value == True:\n",
    "        qual.append(idx)  \n",
    "qual.append('CONJ')\n",
    "print(qual)# names of categorical variables "
   ]
  },
  {
   "cell_type": "code",
   "execution_count": 17,
   "metadata": {},
   "outputs": [
    {
     "data": {
      "text/html": [
       "<div>\n",
       "<style scoped>\n",
       "    .dataframe tbody tr th:only-of-type {\n",
       "        vertical-align: middle;\n",
       "    }\n",
       "\n",
       "    .dataframe tbody tr th {\n",
       "        vertical-align: top;\n",
       "    }\n",
       "\n",
       "    .dataframe thead th {\n",
       "        text-align: right;\n",
       "    }\n",
       "</style>\n",
       "<table border=\"1\" class=\"dataframe\">\n",
       "  <thead>\n",
       "    <tr style=\"text-align: right;\">\n",
       "      <th></th>\n",
       "      <th>entrada</th>\n",
       "      <th>salida</th>\n",
       "      <th>correlation</th>\n",
       "    </tr>\n",
       "  </thead>\n",
       "  <tbody>\n",
       "    <tr>\n",
       "      <th>0</th>\n",
       "      <td>PAC</td>\n",
       "      <td>DIC</td>\n",
       "      <td>0.999495</td>\n",
       "    </tr>\n",
       "    <tr>\n",
       "      <th>1</th>\n",
       "      <td>MUN</td>\n",
       "      <td>DIC</td>\n",
       "      <td>0.301193</td>\n",
       "    </tr>\n",
       "    <tr>\n",
       "      <th>2</th>\n",
       "      <td>BRR</td>\n",
       "      <td>DIC</td>\n",
       "      <td>0.851085</td>\n",
       "    </tr>\n",
       "    <tr>\n",
       "      <th>3</th>\n",
       "      <td>CLAS_SUB</td>\n",
       "      <td>DIC</td>\n",
       "      <td>0.112568</td>\n",
       "    </tr>\n",
       "    <tr>\n",
       "      <th>4</th>\n",
       "      <td>CNAE</td>\n",
       "      <td>DIC</td>\n",
       "      <td>0.037508</td>\n",
       "    </tr>\n",
       "    <tr>\n",
       "      <th>5</th>\n",
       "      <td>FAS_CON</td>\n",
       "      <td>DIC</td>\n",
       "      <td>0.073200</td>\n",
       "    </tr>\n",
       "    <tr>\n",
       "      <th>6</th>\n",
       "      <td>GRU_TEN</td>\n",
       "      <td>DIC</td>\n",
       "      <td>0.000000</td>\n",
       "    </tr>\n",
       "    <tr>\n",
       "      <th>7</th>\n",
       "      <td>TEN_FORN</td>\n",
       "      <td>DIC</td>\n",
       "      <td>0.000000</td>\n",
       "    </tr>\n",
       "    <tr>\n",
       "      <th>8</th>\n",
       "      <td>GRU_TAR</td>\n",
       "      <td>DIC</td>\n",
       "      <td>0.100983</td>\n",
       "    </tr>\n",
       "    <tr>\n",
       "      <th>9</th>\n",
       "      <td>DAT_CON</td>\n",
       "      <td>DIC</td>\n",
       "      <td>0.372960</td>\n",
       "    </tr>\n",
       "    <tr>\n",
       "      <th>10</th>\n",
       "      <td>ARE_LOC</td>\n",
       "      <td>DIC</td>\n",
       "      <td>0.426968</td>\n",
       "    </tr>\n",
       "    <tr>\n",
       "      <th>11</th>\n",
       "      <td>SIT_ATIV</td>\n",
       "      <td>DIC</td>\n",
       "      <td>0.052291</td>\n",
       "    </tr>\n",
       "    <tr>\n",
       "      <th>12</th>\n",
       "      <td>CONJ</td>\n",
       "      <td>DIC</td>\n",
       "      <td>0.212347</td>\n",
       "    </tr>\n",
       "  </tbody>\n",
       "</table>\n",
       "</div>"
      ],
      "text/plain": [
       "     entrada salida  correlation\n",
       "0        PAC    DIC     0.999495\n",
       "1        MUN    DIC     0.301193\n",
       "2        BRR    DIC     0.851085\n",
       "3   CLAS_SUB    DIC     0.112568\n",
       "4       CNAE    DIC     0.037508\n",
       "5    FAS_CON    DIC     0.073200\n",
       "6    GRU_TEN    DIC     0.000000\n",
       "7   TEN_FORN    DIC     0.000000\n",
       "8    GRU_TAR    DIC     0.100983\n",
       "9    DAT_CON    DIC     0.372960\n",
       "10   ARE_LOC    DIC     0.426968\n",
       "11  SIT_ATIV    DIC     0.052291\n",
       "12      CONJ    DIC     0.212347"
      ]
     },
     "execution_count": 17,
     "metadata": {},
     "output_type": "execute_result"
    }
   ],
   "source": [
    "categorica = []\n",
    "correlation = []\n",
    "for i in qual:\n",
    "    cat = data[f\"{i}\"]\n",
    "    eta = correlation_ratio(cat.values,data.DIC.values)\n",
    "    correlation.append(eta)\n",
    "\n",
    "DIC = ['DIC'] * len(qual)\n",
    "\n",
    "df = pd.DataFrame({'entrada': qual,\n",
    "                   'salida' : DIC,\n",
    "                 'correlation': correlation})\n",
    "df"
   ]
  },
  {
   "cell_type": "markdown",
   "metadata": {},
   "source": [
    "### Escoja una variable categorica y calcule las distribuciones condicionales para cada nivel de la misma."
   ]
  },
  {
   "cell_type": "markdown",
   "metadata": {},
   "source": [
    "#### Distribución condicional para DIC en GRU_TAR"
   ]
  },
  {
   "cell_type": "code",
   "execution_count": 18,
   "metadata": {},
   "outputs": [
    {
     "data": {
      "text/html": [
       "<div>\n",
       "<style scoped>\n",
       "    .dataframe tbody tr th:only-of-type {\n",
       "        vertical-align: middle;\n",
       "    }\n",
       "\n",
       "    .dataframe tbody tr th {\n",
       "        vertical-align: top;\n",
       "    }\n",
       "\n",
       "    .dataframe thead th {\n",
       "        text-align: right;\n",
       "    }\n",
       "</style>\n",
       "<table border=\"1\" class=\"dataframe\">\n",
       "  <thead>\n",
       "    <tr style=\"text-align: right;\">\n",
       "      <th>DIC_CAT</th>\n",
       "      <th>low</th>\n",
       "      <th>medium</th>\n",
       "      <th>high</th>\n",
       "    </tr>\n",
       "    <tr>\n",
       "      <th>GRU_TAR</th>\n",
       "      <th></th>\n",
       "      <th></th>\n",
       "      <th></th>\n",
       "    </tr>\n",
       "  </thead>\n",
       "  <tbody>\n",
       "    <tr>\n",
       "      <th>B1</th>\n",
       "      <td>26499</td>\n",
       "      <td>33601</td>\n",
       "      <td>35930</td>\n",
       "    </tr>\n",
       "    <tr>\n",
       "      <th>B1BR</th>\n",
       "      <td>146</td>\n",
       "      <td>205</td>\n",
       "      <td>246</td>\n",
       "    </tr>\n",
       "    <tr>\n",
       "      <th>B2RU</th>\n",
       "      <td>510</td>\n",
       "      <td>994</td>\n",
       "      <td>1333</td>\n",
       "    </tr>\n",
       "    <tr>\n",
       "      <th>B2SP</th>\n",
       "      <td>0</td>\n",
       "      <td>1</td>\n",
       "      <td>1</td>\n",
       "    </tr>\n",
       "    <tr>\n",
       "      <th>B3</th>\n",
       "      <td>3561</td>\n",
       "      <td>3442</td>\n",
       "      <td>2953</td>\n",
       "    </tr>\n",
       "    <tr>\n",
       "      <th>B4A</th>\n",
       "      <td>18</td>\n",
       "      <td>11</td>\n",
       "      <td>12</td>\n",
       "    </tr>\n",
       "  </tbody>\n",
       "</table>\n",
       "</div>"
      ],
      "text/plain": [
       "DIC_CAT    low  medium   high\n",
       "GRU_TAR                      \n",
       "B1       26499   33601  35930\n",
       "B1BR       146     205    246\n",
       "B2RU       510     994   1333\n",
       "B2SP         0       1      1\n",
       "B3        3561    3442   2953\n",
       "B4A         18      11     12"
      ]
     },
     "execution_count": 18,
     "metadata": {},
     "output_type": "execute_result"
    }
   ],
   "source": [
    "data['DIC_CAT'] = pd.cut(data['DIC'], [-1,2,5,10], labels=['low', 'medium', 'high'])\n",
    "cond_prob = pd.crosstab(data.GRU_TAR, data.DIC_CAT)\n",
    "cond_prob "
   ]
  },
  {
   "cell_type": "markdown",
   "metadata": {},
   "source": [
    "**P(un cliente en GRU_TAR B1 ∣ tiene medium duracion de corte)**"
   ]
  },
  {
   "cell_type": "code",
   "execution_count": 19,
   "metadata": {},
   "outputs": [
    {
     "name": "stdout",
     "output_type": "stream",
     "text": [
      "109463\n"
     ]
    }
   ],
   "source": [
    "def sum_list(items):\n",
    "    sum_numbers = 0\n",
    "    for x in items:\n",
    "        sum_numbers += x\n",
    "    return sum_numbers\n",
    "print(sum_list(cond_prob.sum(axis=1)))"
   ]
  },
  {
   "cell_type": "code",
   "execution_count": 20,
   "metadata": {},
   "outputs": [
    {
     "name": "stdout",
     "output_type": "stream",
     "text": [
      "Probabilidad que un cliente en GRU_TAR B1 tiene medium duracion de corte:  0.877282734805368\n"
     ]
    }
   ],
   "source": [
    "print(\"Probabilidad que un cliente en GRU_TAR B1 tiene medium duracion de corte: \",int(cond_prob.sum(axis=1).B1)/int(sum_list(cond_prob.sum(axis=1))))"
   ]
  },
  {
   "cell_type": "markdown",
   "metadata": {},
   "source": [
    "### Como varia el servicio entre zonas urbanas y rurales?"
   ]
  },
  {
   "cell_type": "markdown",
   "metadata": {},
   "source": [
    "Sacamos los valores ```0``` de```ARE_LOC``` porque no sabemos a que se refiere y cambian mucho el imagen resultado. "
   ]
  },
  {
   "cell_type": "code",
   "execution_count": 21,
   "metadata": {},
   "outputs": [],
   "source": [
    "target_0 = data.loc[data['ARE_LOC'] == 'NU']\n",
    "target_1 = data.loc[data['ARE_LOC'] == \"UB\"]"
   ]
  },
  {
   "cell_type": "code",
   "execution_count": 22,
   "metadata": {},
   "outputs": [
    {
     "data": {
      "text/plain": [
       "<matplotlib.legend.Legend at 0x7fdb368b12d0>"
      ]
     },
     "execution_count": 22,
     "metadata": {},
     "output_type": "execute_result"
    },
    {
     "data": {
      "image/png": "[encoded data removed]",
      "text/plain": [
       "<Figure size 576x288 with 1 Axes>"
      ]
     },
     "metadata": {
      "needs_background": "light"
     },
     "output_type": "display_data"
    }
   ],
   "source": [
    "fig = plt.figure(figsize=(8,4))\n",
    "plt.xlabel('horas')\n",
    "plt.title('Distribucion de Duración de Corte; zonas urbanos y rurales')\n",
    "ax = sns.distplot(target_0[['DIC']], label='NU', hist=False)\n",
    "bx = sns.distplot(target_1[['DIC']], label='UB', hist=False)\n",
    "ax.legend()"
   ]
  },
  {
   "cell_type": "markdown",
   "metadata": {},
   "source": [
    "### Como varia el consumo entre zonas urbanas y rurales?"
   ]
  },
  {
   "cell_type": "code",
   "execution_count": 23,
   "metadata": {},
   "outputs": [
    {
     "data": {
      "text/plain": [
       "<matplotlib.legend.Legend at 0x7fdb368a6e10>"
      ]
     },
     "execution_count": 23,
     "metadata": {},
     "output_type": "execute_result"
    },
    {
     "data": {
      "image/png": "[encoded data removed]",
      "text/plain": [
       "<Figure size 576x288 with 1 Axes>"
      ]
     },
     "metadata": {
      "needs_background": "light"
     },
     "output_type": "display_data"
    }
   ],
   "source": [
    "fig = plt.figure(figsize=(8,4))\n",
    "#plt.xlabel('DIC (duración de corte en horas)')\n",
    "#plt.title('Tabla de frequencia entre zonas urbanos y rurales y duración de corte (categorizado por bins)')\n",
    "ax = sns.distplot(target_0[['consumo_anual']], label='NU', hist=False)\n",
    "bx = sns.distplot(target_1[['consumo_anual']], label='UB', hist=False)\n",
    "ax.legend()"
   ]
  }
 ],
 "metadata": {
  "kernelspec": {
   "display_name": "Python 3",
   "language": "python",
   "name": "python3"
  },
  "language_info": {
   "codemirror_mode": {
    "name": "ipython",
    "version": 3
   },
   "file_extension": ".py",
   "mimetype": "text/x-python",
   "name": "python",
   "nbconvert_exporter": "python",
   "pygments_lexer": "ipython3",
   "version": "3.7.6"
  }
 },
 "nbformat": 4,
 "nbformat_minor": 2
}
